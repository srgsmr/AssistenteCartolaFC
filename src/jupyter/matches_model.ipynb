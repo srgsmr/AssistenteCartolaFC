{
 "cells": [
  {
   "cell_type": "code",
   "execution_count": 2,
   "metadata": {},
   "outputs": [
    {
     "name": "stdout",
     "output_type": "stream",
     "text": [
      "<class 'pandas.core.frame.DataFrame'>\n",
      "Int64Index: 472 entries, 40 to 279\n",
      "Data columns (total 18 columns):\n",
      "clube_id          472 non-null int64\n",
      "aproveitamento    472 non-null object\n",
      "in_pos            472 non-null float64\n",
      "in_pos_adv        472 non-null float64\n",
      "local             472 non-null object\n",
      "partida_data      472 non-null object\n",
      "partida_id        472 non-null int64\n",
      "placar            472 non-null float64\n",
      "placar_adv        472 non-null float64\n",
      "rodada_id         472 non-null int64\n",
      "wins              472 non-null int64\n",
      "losses            472 non-null int64\n",
      "draws             472 non-null int64\n",
      "wins_adv          472 non-null int64\n",
      "losses_adv        472 non-null int64\n",
      "draws_adv         472 non-null int64\n",
      "home              472 non-null int64\n",
      "result            472 non-null object\n",
      "dtypes: float64(4), int64(10), object(4)\n",
      "memory usage: 62.7+ KB\n"
     ]
    }
   ],
   "source": [
    "# import basic modules\n",
    "import pandas as pd\n",
    "import numpy as np\n",
    "import timeit\n",
    "\n",
    "# import sklearn modules\n",
    "from sklearn.preprocessing import MinMaxScaler \n",
    "from sklearn.model_selection import RandomizedSearchCV\n",
    "from sklearn.svm import SVC\n",
    "from sklearn.neighbors import KNeighborsClassifier\n",
    "from sklearn.tree import DecisionTreeClassifier\n",
    "from sklearn.ensemble import RandomForestClassifier\n",
    "from sklearn.naive_bayes import MultinomialNB\n",
    "from sklearn.linear_model import LogisticRegression\n",
    "from sklearn.metrics import make_scorer, accuracy_score\n",
    "\n",
    "# load preprocessed file of match rounds\n",
    "preprocessed_path_file = \"../../data/rounds_preprocessed.csv\"\n",
    "df_matches = pd.read_csv(preprocessed_path_file, encoding='utf_16', index_col=0)\n",
    "\n",
    "# remove matches from the first 4 rounds, there is no enough history for them\n",
    "df_matches = df_matches[df_matches[\"rodada_id\"]>4]\n",
    "\n",
    "df_matches.info()"
   ]
  },
  {
   "cell_type": "code",
   "execution_count": 3,
   "metadata": {},
   "outputs": [
    {
     "data": {
      "text/html": [
       "<div>\n",
       "<style scoped>\n",
       "    .dataframe tbody tr th:only-of-type {\n",
       "        vertical-align: middle;\n",
       "    }\n",
       "\n",
       "    .dataframe tbody tr th {\n",
       "        vertical-align: top;\n",
       "    }\n",
       "\n",
       "    .dataframe thead th {\n",
       "        text-align: right;\n",
       "    }\n",
       "</style>\n",
       "<table border=\"1\" class=\"dataframe\">\n",
       "  <thead>\n",
       "    <tr style=\"text-align: right;\">\n",
       "      <th></th>\n",
       "      <th>n_in_pos</th>\n",
       "      <th>n_in_pos_adv</th>\n",
       "      <th>wins</th>\n",
       "      <th>losses</th>\n",
       "      <th>draws</th>\n",
       "      <th>wins_adv</th>\n",
       "      <th>losses_adv</th>\n",
       "      <th>draws_adv</th>\n",
       "      <th>home</th>\n",
       "    </tr>\n",
       "  </thead>\n",
       "  <tbody>\n",
       "    <tr>\n",
       "      <th>count</th>\n",
       "      <td>472.000000</td>\n",
       "      <td>472.000000</td>\n",
       "      <td>472.000000</td>\n",
       "      <td>472.000000</td>\n",
       "      <td>472.000000</td>\n",
       "      <td>472.000000</td>\n",
       "      <td>472.000000</td>\n",
       "      <td>472.000000</td>\n",
       "      <td>472.000000</td>\n",
       "    </tr>\n",
       "    <tr>\n",
       "      <th>mean</th>\n",
       "      <td>0.503011</td>\n",
       "      <td>0.503011</td>\n",
       "      <td>1.427966</td>\n",
       "      <td>1.447034</td>\n",
       "      <td>1.125000</td>\n",
       "      <td>1.427966</td>\n",
       "      <td>1.447034</td>\n",
       "      <td>1.125000</td>\n",
       "      <td>0.500000</td>\n",
       "    </tr>\n",
       "    <tr>\n",
       "      <th>std</th>\n",
       "      <td>0.303447</td>\n",
       "      <td>0.303447</td>\n",
       "      <td>1.052296</td>\n",
       "      <td>1.018591</td>\n",
       "      <td>0.895406</td>\n",
       "      <td>1.052296</td>\n",
       "      <td>1.018591</td>\n",
       "      <td>0.895406</td>\n",
       "      <td>0.500531</td>\n",
       "    </tr>\n",
       "    <tr>\n",
       "      <th>min</th>\n",
       "      <td>0.000000</td>\n",
       "      <td>0.000000</td>\n",
       "      <td>0.000000</td>\n",
       "      <td>0.000000</td>\n",
       "      <td>0.000000</td>\n",
       "      <td>0.000000</td>\n",
       "      <td>0.000000</td>\n",
       "      <td>0.000000</td>\n",
       "      <td>0.000000</td>\n",
       "    </tr>\n",
       "    <tr>\n",
       "      <th>25%</th>\n",
       "      <td>0.263158</td>\n",
       "      <td>0.263158</td>\n",
       "      <td>1.000000</td>\n",
       "      <td>1.000000</td>\n",
       "      <td>0.000000</td>\n",
       "      <td>1.000000</td>\n",
       "      <td>1.000000</td>\n",
       "      <td>0.000000</td>\n",
       "      <td>0.000000</td>\n",
       "    </tr>\n",
       "    <tr>\n",
       "      <th>50%</th>\n",
       "      <td>0.526316</td>\n",
       "      <td>0.526316</td>\n",
       "      <td>1.000000</td>\n",
       "      <td>1.000000</td>\n",
       "      <td>1.000000</td>\n",
       "      <td>1.000000</td>\n",
       "      <td>1.000000</td>\n",
       "      <td>1.000000</td>\n",
       "      <td>0.500000</td>\n",
       "    </tr>\n",
       "    <tr>\n",
       "      <th>75%</th>\n",
       "      <td>0.789474</td>\n",
       "      <td>0.789474</td>\n",
       "      <td>2.000000</td>\n",
       "      <td>2.000000</td>\n",
       "      <td>2.000000</td>\n",
       "      <td>2.000000</td>\n",
       "      <td>2.000000</td>\n",
       "      <td>2.000000</td>\n",
       "      <td>1.000000</td>\n",
       "    </tr>\n",
       "    <tr>\n",
       "      <th>max</th>\n",
       "      <td>1.000000</td>\n",
       "      <td>1.000000</td>\n",
       "      <td>4.000000</td>\n",
       "      <td>4.000000</td>\n",
       "      <td>4.000000</td>\n",
       "      <td>4.000000</td>\n",
       "      <td>4.000000</td>\n",
       "      <td>4.000000</td>\n",
       "      <td>1.000000</td>\n",
       "    </tr>\n",
       "  </tbody>\n",
       "</table>\n",
       "</div>"
      ],
      "text/plain": [
       "         n_in_pos  n_in_pos_adv        wins      losses       draws  \\\n",
       "count  472.000000    472.000000  472.000000  472.000000  472.000000   \n",
       "mean     0.503011      0.503011    1.427966    1.447034    1.125000   \n",
       "std      0.303447      0.303447    1.052296    1.018591    0.895406   \n",
       "min      0.000000      0.000000    0.000000    0.000000    0.000000   \n",
       "25%      0.263158      0.263158    1.000000    1.000000    0.000000   \n",
       "50%      0.526316      0.526316    1.000000    1.000000    1.000000   \n",
       "75%      0.789474      0.789474    2.000000    2.000000    2.000000   \n",
       "max      1.000000      1.000000    4.000000    4.000000    4.000000   \n",
       "\n",
       "         wins_adv  losses_adv   draws_adv        home  \n",
       "count  472.000000  472.000000  472.000000  472.000000  \n",
       "mean     1.427966    1.447034    1.125000    0.500000  \n",
       "std      1.052296    1.018591    0.895406    0.500531  \n",
       "min      0.000000    0.000000    0.000000    0.000000  \n",
       "25%      1.000000    1.000000    0.000000    0.000000  \n",
       "50%      1.000000    1.000000    1.000000    0.500000  \n",
       "75%      2.000000    2.000000    2.000000    1.000000  \n",
       "max      4.000000    4.000000    4.000000    1.000000  "
      ]
     },
     "execution_count": 3,
     "metadata": {},
     "output_type": "execute_result"
    }
   ],
   "source": [
    "# select features and targets and target for classification\n",
    "# unselected features: 'clube_id', 'placar', 'placar_adv', 'rodada_id',\n",
    "X_col_select = ['in_pos', 'in_pos_adv', 'wins', 'losses', 'draws', \n",
    "                'wins_adv', 'losses_adv', 'draws_adv', 'home']\n",
    "X = df_matches[X_col_select].copy()\n",
    "\n",
    "\n",
    "# adjust scale from numeric features\n",
    "scaler = MinMaxScaler()\n",
    "X['n_in_pos'] = scaler.fit_transform(X[['in_pos']])\n",
    "X['n_in_pos_adv'] = scaler.fit_transform(X[['in_pos_adv']])\n",
    "\n",
    "# remove features adjusted\n",
    "X_col_select = ['n_in_pos', 'n_in_pos_adv', 'wins', 'losses', 'draws', \n",
    "                'wins_adv', 'losses_adv', 'draws_adv', 'home']\n",
    "X = X[X_col_select]\n",
    "\n",
    "X.describe()"
   ]
  },
  {
   "cell_type": "code",
   "execution_count": 4,
   "metadata": {},
   "outputs": [
    {
     "name": "stdout",
     "output_type": "stream",
     "text": [
      "<class 'pandas.core.frame.DataFrame'>\n",
      "Int64Index: 472 entries, 40 to 279\n",
      "Data columns (total 9 columns):\n",
      "n_in_pos        472 non-null float64\n",
      "n_in_pos_adv    472 non-null float64\n",
      "wins            472 non-null int64\n",
      "losses          472 non-null int64\n",
      "draws           472 non-null int64\n",
      "wins_adv        472 non-null int64\n",
      "losses_adv      472 non-null int64\n",
      "draws_adv       472 non-null int64\n",
      "home            472 non-null int64\n",
      "dtypes: float64(2), int64(7)\n",
      "memory usage: 36.9 KB\n",
      "None (472,)\n"
     ]
    }
   ],
   "source": [
    "# create boolean targets for classification\n",
    "y_col_select = ['result', 'placar', 'placar_adv']\n",
    "y = df_matches[y_col_select].copy()\n",
    "\n",
    "# team lost the match\n",
    "y[\"loss\"] = y[\"result\"].values == \"d\" \n",
    "\n",
    "# team won the match\n",
    "y[\"win\"] = y[\"result\"].values == \"v\"\n",
    "\n",
    "# team suffered zero goals on the match\n",
    "y[\"suffer_zero\"] = y[\"placar_adv\"] == 0\n",
    "\n",
    "# team scored more than 2 goal on the match\n",
    "y[\"scor2plus\"] = y[\"placar\"] > 2\n",
    "\n",
    "# remove original values\n",
    "y = y.drop(['result', 'placar', 'placar_adv'], axis=1)\n",
    "\n",
    "# first select a model for the win target, using recall_score to minimize false positive\n",
    "ya = y[\"win\"].values.ravel()\n",
    "scorer = make_scorer(accuracy_score)\n",
    "\n",
    "print(X.info(), ya.shape)\n"
   ]
  },
  {
   "cell_type": "code",
   "execution_count": 5,
   "metadata": {},
   "outputs": [
    {
     "name": "stdout",
     "output_type": "stream",
     "text": [
      "KNN - best recall score = 0.659\n",
      "KNN - best params =  {'weights': 'distance', 'n_neighbors': 15, 'algorithm': 'kd_tree'}\n",
      "KNN - mean recall score = 0.633\n"
     ]
    }
   ],
   "source": [
    "est = KNeighborsClassifier()\n",
    "param_dict = {\"n_neighbors\": [2, 5, 10, 15],\n",
    "             \"algorithm\": ['ball_tree', 'kd_tree'],\n",
    "             \"weights\": ['uniform', 'distance']}\n",
    "\n",
    "rs = RandomizedSearchCV(estimator=est, param_distributions=param_dict, scoring=scorer,\n",
    "                        n_iter=16, cv=50, random_state=1984)\n",
    "rs.fit(X, ya)\n",
    "\n",
    "print(\"KNN - best recall score = %.3f\"%rs.best_score_)\n",
    "print(\"KNN - best params = \",rs.best_params_)\n",
    "print(\"KNN - mean recall score = %.3f\"%rs.cv_results_['mean_test_score'].mean())"
   ]
  },
  {
   "cell_type": "code",
   "execution_count": 6,
   "metadata": {},
   "outputs": [
    {
     "name": "stdout",
     "output_type": "stream",
     "text": [
      "DecisionTree - best recall score = 0.672\n",
      "DecisionTree - best params =  {'min_samples_leaf': 5, 'max_features': 2, 'max_depth': 5}\n",
      "DecisionTree - mean recall score = 0.600\n"
     ]
    }
   ],
   "source": [
    "est = DecisionTreeClassifier()\n",
    "param_dict = {\"max_depth\": [5, 10, 20, 30],\n",
    "             \"min_samples_leaf\": [1, 3, 5],\n",
    "             \"max_features\": [2, 3, 5, 9]} #'auto', 'sqrt', 'log2']}\n",
    "\n",
    "rs = RandomizedSearchCV(estimator=est, param_distributions=param_dict, scoring=scorer,\n",
    "                        n_iter=48, cv=50, random_state=1984)\n",
    "rs.fit(X, ya)\n",
    "\n",
    "print(\"DecisionTree - best recall score = %.3f\"%rs.best_score_)\n",
    "print(\"DecisionTree - best params = \",rs.best_params_)\n",
    "print(\"DecisionTree - mean recall score = %.3f\"%rs.cv_results_['mean_test_score'].mean())"
   ]
  },
  {
   "cell_type": "code",
   "execution_count": 7,
   "metadata": {},
   "outputs": [
    {
     "name": "stdout",
     "output_type": "stream",
     "text": [
      "DecisionTree - fit ellapsed time = 0.002 seconds\n",
      "RandomForest - best recall score = 0.659\n",
      "RandomForest - best params =  {'n_estimators': 50, 'min_samples_leaf': 3}\n",
      "RandomForest - mean recall score = 0.641\n"
     ]
    }
   ],
   "source": [
    "est = RandomForestClassifier(max_features=9, max_depth=5)\n",
    "param_dict = {\"n_estimators\": [50, 100, 200],\n",
    "              #\"max_depth\": [20, 30, 40],\n",
    "             \"min_samples_leaf\": [1, 3, 5]}#,\n",
    "             #\"max_features\": [2, 5, 7]} \n",
    "\n",
    "rs = RandomizedSearchCV(estimator=est, param_distributions=param_dict, scoring=scorer,\n",
    "                        n_iter=9, cv=50, random_state=1984)\n",
    "time = timeit.timeit()\n",
    "rs.fit(X, ya)\n",
    "print(\"DecisionTree - fit ellapsed time = %.3f seconds\"%(time-timeit.timeit()))\n",
    "\n",
    "print(\"RandomForest - best recall score = %.3f\"%rs.best_score_)\n",
    "print(\"RandomForest - best params = \",rs.best_params_)\n",
    "print(\"RandomForest - mean recall score = %.3f\"%rs.cv_results_['mean_test_score'].mean())"
   ]
  },
  {
   "cell_type": "code",
   "execution_count": 8,
   "metadata": {},
   "outputs": [
    {
     "name": "stdout",
     "output_type": "stream",
     "text": [
      "Naive Bayes - fit ellapsed time = 0.003 seconds\n",
      "Naive Bayes - best recall score = 0.652\n",
      "Naive Bayes - best params =  {'alpha': 1}\n",
      "Naive Bayes - mean recall score = 0.652\n"
     ]
    }
   ],
   "source": [
    "est = MultinomialNB()\n",
    "param_dict = {\"alpha\": [0, 0.5, 1]} \n",
    "\n",
    "rs = RandomizedSearchCV(estimator=est, param_distributions=param_dict, scoring=scorer,\n",
    "                        n_iter=2, cv=5, random_state=1984)\n",
    "time = timeit.timeit()\n",
    "rs.fit(X, ya)\n",
    "print(\"Naive Bayes - fit ellapsed time = %.3f seconds\"%(time-timeit.timeit()))\n",
    "\n",
    "print(\"Naive Bayes - best recall score = %.3f\"%rs.best_score_)\n",
    "print(\"Naive Bayes - best params = \",rs.best_params_)\n",
    "print(\"Naive Bayes - mean recall score = %.3f\"%rs.cv_results_['mean_test_score'].mean())"
   ]
  },
  {
   "cell_type": "code",
   "execution_count": 9,
   "metadata": {},
   "outputs": [
    {
     "name": "stdout",
     "output_type": "stream",
     "text": [
      "LogisticRegression - fit ellapsed time = 0.008 seconds\n",
      "LogisticRegression - best recall score = 0.670\n",
      "LogisticRegression - best params =  {'C': 0.1}\n",
      "LogisticRegression - mean recall score = 0.662\n"
     ]
    }
   ],
   "source": [
    "est = LogisticRegression()\n",
    "param_dict = {\"C\": [.1, 1, 5, 10]} \n",
    "\n",
    "rs = RandomizedSearchCV(estimator=est, param_distributions=param_dict, scoring=scorer,\n",
    "                        n_iter=4, cv=50, random_state=1984)\n",
    "time = timeit.timeit()\n",
    "rs.fit(X, ya)\n",
    "print(\"LogisticRegression - fit ellapsed time = %.3f seconds\"%(time-timeit.timeit()))\n",
    "\n",
    "print(\"LogisticRegression - best recall score = %.3f\"%rs.best_score_)\n",
    "print(\"LogisticRegression - best params = \",rs.best_params_)\n",
    "print(\"LogisticRegression - mean recall score = %.3f\"%rs.cv_results_['mean_test_score'].mean())"
   ]
  },
  {
   "cell_type": "code",
   "execution_count": null,
   "metadata": {},
   "outputs": [],
   "source": []
  }
 ],
 "metadata": {
  "kernelspec": {
   "display_name": "Python 3",
   "language": "python",
   "name": "python3"
  },
  "language_info": {
   "codemirror_mode": {
    "name": "ipython",
    "version": 3
   },
   "file_extension": ".py",
   "mimetype": "text/x-python",
   "name": "python",
   "nbconvert_exporter": "python",
   "pygments_lexer": "ipython3",
   "version": "3.7.2"
  }
 },
 "nbformat": 4,
 "nbformat_minor": 2
}
