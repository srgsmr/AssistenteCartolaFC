{
 "cells": [
  {
   "cell_type": "code",
   "execution_count": 1,
   "metadata": {},
   "outputs": [
    {
     "name": "stdout",
     "output_type": "stream",
     "text": [
      "   atleta_id         apelido  rodada_id  \\\n",
      "0      84709      Nico López          4   \n",
      "1      90285  Bruno Henrique          4   \n",
      "2      42234          Cássio          4   \n",
      "3      37656           Fábio          4   \n",
      "4      42500          Fagner          4   \n",
      "5      83257         Gabriel          4   \n",
      "6      80853   Pedro Geromel          4   \n",
      "7      78445            Renê          4   \n",
      "8      60819            Dedé          4   \n",
      "9      79113   Víctor Cuesta          4   \n",
      "\n",
      "                                               scout  \n",
      "0  {'CA': 1, 'FC': 1, 'FD': 2, 'FF': 5, 'FS': 4, ...  \n",
      "1  {'CA': 1, 'FC': 3, 'FD': 2, 'FF': 4, 'FS': 3, ...  \n",
      "2  {'CA': 1, 'DD': 3, 'FS': 1, 'GS': 4, 'PE': 2, ...  \n",
      "3               {'DD': 6, 'DP': 1, 'GS': 7, 'SG': 1}  \n",
      "4  {'CA': 1, 'FC': 1, 'FD': 1, 'FS': 8, 'PE': 9, ...  \n",
      "5  {'CA': 1, 'FC': 1, 'FD': 3, 'FF': 2, 'FS': 4, ...  \n",
      "6  {'CA': 1, 'FC': 1, 'FF': 1, 'FS': 2, 'PE': 7, ...  \n",
      "7      {'CA': 1, 'FC': 2, 'FS': 2, 'PE': 5, 'RB': 2}  \n",
      "8  {'FC': 3, 'FF': 1, 'FS': 3, 'G': 2, 'PE': 10, ...  \n",
      "9     {'CA': 1, 'FC': 3, 'FS': 2, 'PE': 2, 'RB': 11}  \n"
     ]
    },
    {
     "data": {
      "text/plain": [
       "737"
      ]
     },
     "execution_count": 1,
     "metadata": {},
     "output_type": "execute_result"
    }
   ],
   "source": [
    "from cartolafc_api import cartola_api\n",
    "import pandas as pd\n",
    "\n",
    "atletas = cartola_api.read_data()\n",
    "df_atletas = pd.DataFrame(atletas[\"atletas\"])\n",
    "print(df_atletas[['atleta_id','apelido','rodada_id', 'scout']].head(10))\n",
    "df_atletas.shape[0]\n",
    "# print(df_atletas[df_atletas.clube_id == 284])\n"
   ]
  },
  {
   "cell_type": "code",
   "execution_count": 130,
   "metadata": {},
   "outputs": [
    {
     "name": "stdout",
     "output_type": "stream",
     "text": [
      "                       A   CA  CV  DD   FC   FD   FF   FS  FT    G  GC  GS  \\\n",
      "rodada_id atleta_id                                                          \n",
      "1         98765      NaN  NaN NaN NaN  NaN  NaN  NaN  NaN NaN  NaN NaN NaN   \n",
      "          83004      NaN  NaN NaN NaN  1.0  2.0  2.0  2.0 NaN  1.0 NaN NaN   \n",
      "          38506      NaN  NaN NaN NaN  NaN  NaN  NaN  NaN NaN  NaN NaN NaN   \n",
      "          101716     NaN  NaN NaN NaN  NaN  NaN  NaN  NaN NaN  NaN NaN NaN   \n",
      "          97619      NaN  NaN NaN NaN  NaN  NaN  NaN  NaN NaN  NaN NaN NaN   \n",
      "          61033      NaN  NaN NaN NaN  1.0  NaN  NaN  2.0 NaN  2.0 NaN NaN   \n",
      "          38350      NaN  NaN NaN NaN  NaN  NaN  NaN  NaN NaN  NaN NaN NaN   \n",
      "          99817      NaN  1.0 NaN NaN  2.0  NaN  NaN  1.0 NaN  NaN NaN NaN   \n",
      "          37655      1.0  NaN NaN NaN  1.0  NaN  1.0  NaN NaN  NaN NaN NaN   \n",
      "          38909      NaN  1.0 NaN NaN  3.0  NaN  1.0  8.0 NaN  NaN NaN NaN   \n",
      "\n",
      "                       I   PE   RB  SG  \n",
      "rodada_id atleta_id                     \n",
      "1         98765      NaN  NaN  NaN NaN  \n",
      "          83004      1.0  NaN  3.0 NaN  \n",
      "          38506      NaN  NaN  NaN NaN  \n",
      "          101716     NaN  NaN  NaN NaN  \n",
      "          97619      NaN  NaN  NaN NaN  \n",
      "          61033      NaN  5.0  1.0 NaN  \n",
      "          38350      NaN  NaN  NaN NaN  \n",
      "          99817      NaN  2.0  2.0 NaN  \n",
      "          37655      1.0  4.0  1.0 NaN  \n",
      "          38909      1.0  5.0  1.0 NaN  \n"
     ]
    }
   ],
   "source": [
    "#scouts = pd.DataFrame(df_atletas.loc[1,'scout'])\n",
    "#for atleta in df_atletas:\n",
    "    #input = dict(atleta_id=atleta['atleta_id'])\n",
    "    #input.update(atleta['scouts'])\n",
    "    #scouts.append(atleta['scouts'], ignore_index=True)\n",
    "#print(scouts.head())\n",
    "#print(df_atletas.loc[:,'scout'])\n",
    "#print(df_atletas.loc[1])\n",
    "\n",
    "#scouts = pd.DataFrame([df_atletas.loc[1,'atleta_id'], df_atletas.loc[1,'scout']], index=)\n",
    "scouts = pd.DataFrame()\n",
    "l = []\n",
    "for index, atleta in df_atletas.iterrows():\n",
    "    d = atleta['scout']\n",
    "    d['atleta_id'] = atleta['atleta_id']\n",
    "    d['rodada_id'] = atleta['rodada_id']\n",
    "    l.append(d)\n",
    "scouts = scouts.append(l)\n",
    "\n",
    "scouts = scouts.set_index(['rodada_id','atleta_id'])\n",
    "print(scouts.head(10))\n"
   ]
  },
  {
   "cell_type": "markdown",
   "metadata": {},
   "source": []
  },
  {
   "cell_type": "code",
   "execution_count": 17,
   "metadata": {
    "collapsed": true
   },
   "outputs": [
    {
     "name": "stdout",
     "output_type": "stream",
     "text": [
      "<class 'pandas.core.frame.DataFrame'>\n",
      "Int64Index: 234 entries, 1 to 782\n",
      "Data columns (total 15 columns):\n",
      "apelido         234 non-null object\n",
      "atleta_id       234 non-null int64\n",
      "clube_id        234 non-null int64\n",
      "foto            234 non-null object\n",
      "jogos_num       234 non-null int64\n",
      "media_num       234 non-null float64\n",
      "nome            234 non-null object\n",
      "pontos_num      234 non-null float64\n",
      "posicao_id      234 non-null int64\n",
      "preco_num       234 non-null float64\n",
      "rodada_id       234 non-null int64\n",
      "scout           234 non-null object\n",
      "slug            234 non-null object\n",
      "status_id       234 non-null int64\n",
      "variacao_num    234 non-null float64\n",
      "dtypes: float64(4), int64(6), object(5)\n",
      "memory usage: 29.2+ KB\n",
      "None\n"
     ]
    }
   ],
   "source": [
    "df_atletas = df_atletas[df_atletas.status_id == 7]\n",
    "print(df_atletas.info())"
   ]
  },
  {
   "cell_type": "code",
   "execution_count": 18,
   "metadata": {},
   "outputs": [
    {
     "name": "stdout",
     "output_type": "stream",
     "text": [
      "  aproveitamento_mandante aproveitamento_visitante  clube_casa_id  \\\n",
      "0             [, , , , d]              [, , , , e]            282   \n",
      "1             [, , , , d]              [, , , , v]            289   \n",
      "2             [, , , , d]              [, , , , v]            315   \n",
      "3             [, , , , d]              [, , , , v]            265   \n",
      "4             [, , , , d]              [, , , , d]            266   \n",
      "\n",
      "   clube_casa_posicao  clube_visitante_id  clube_visitante_posicao  \\\n",
      "0                  14                 287                        9   \n",
      "1                  15                 264                        5   \n",
      "2                  20                 267                        6   \n",
      "3                  17                 277                        3   \n",
      "4                  13                 283                       16   \n",
      "\n",
      "            local         partida_data  partida_id placar_oficial_mandante  \\\n",
      "0   Independência  2018-04-22 16:00:00      221179                    None   \n",
      "1  Durival Britto  2018-04-22 11:00:00      221180                    None   \n",
      "2     Arena Condá  2018-04-22 16:00:00      221181                    None   \n",
      "3      Fonte Nova  2018-04-21 16:00:00      221182                    None   \n",
      "4        Maracanã  2018-04-22 16:00:00      221183                    None   \n",
      "\n",
      "  placar_oficial_visitante url_confronto url_transmissao  valida  \n",
      "0                     None                                  True  \n",
      "1                     None                                  True  \n",
      "2                     None                                  True  \n",
      "3                     None                                  True  \n",
      "4                     None                                  True  \n"
     ]
    }
   ],
   "source": [
    "jogos = pd.DataFrame(cartola_api.read_rounddata()['partidas'])\n",
    "print(jogos.head())"
   ]
  },
  {
   "cell_type": "code",
   "execution_count": 137,
   "metadata": {},
   "outputs": [
    {
     "ename": "JSONDecodeError",
     "evalue": "Expecting value: line 1 column 1 (char 0)",
     "output_type": "error",
     "traceback": [
      "\u001b[0;31m---------------------------------------------------------------------------\u001b[0m",
      "\u001b[0;31mJSONDecodeError\u001b[0m                           Traceback (most recent call last)",
      "\u001b[0;32m<ipython-input-137-8e47abd59247>\u001b[0m in \u001b[0;36m<module>\u001b[0;34m()\u001b[0m\n\u001b[1;32m      3\u001b[0m \u001b[0mcart\u001b[0m \u001b[0;34m=\u001b[0m \u001b[0mcartoleiro\u001b[0m\u001b[0;34m.\u001b[0m\u001b[0mCartoleiro\u001b[0m\u001b[0;34m(\u001b[0m\u001b[0;34m)\u001b[0m\u001b[0;34m\u001b[0m\u001b[0m\n\u001b[1;32m      4\u001b[0m \u001b[0;34m\u001b[0m\u001b[0m\n\u001b[0;32m----> 5\u001b[0;31m \u001b[0mprint\u001b[0m\u001b[0;34m(\u001b[0m\u001b[0mcart\u001b[0m\u001b[0;34m.\u001b[0m\u001b[0mread_last_round\u001b[0m\u001b[0;34m(\u001b[0m\u001b[0;34m)\u001b[0m\u001b[0;34m)\u001b[0m\u001b[0;34m\u001b[0m\u001b[0m\n\u001b[0m",
      "\u001b[0;32m~/PycharmProjects/Cartola/cartoleiro.py\u001b[0m in \u001b[0;36mread_last_round\u001b[0;34m(self)\u001b[0m\n\u001b[1;32m     84\u001b[0m         \u001b[0;32melse\u001b[0m\u001b[0;34m:\u001b[0m\u001b[0;34m\u001b[0m\u001b[0m\n\u001b[1;32m     85\u001b[0m             \u001b[0mround\u001b[0m \u001b[0;34m=\u001b[0m \u001b[0mself\u001b[0m\u001b[0;34m.\u001b[0m\u001b[0mrounds_table\u001b[0m\u001b[0;34m[\u001b[0m\u001b[0;34m'rodada_id'\u001b[0m\u001b[0;34m]\u001b[0m\u001b[0;34m.\u001b[0m\u001b[0mmax\u001b[0m\u001b[0;34m(\u001b[0m\u001b[0;34m)\u001b[0m \u001b[0;34m+\u001b[0m \u001b[0;36m1\u001b[0m\u001b[0;34m\u001b[0m\u001b[0m\n\u001b[0;32m---> 86\u001b[0;31m         \u001b[0mdf\u001b[0m \u001b[0;34m=\u001b[0m \u001b[0mpd\u001b[0m\u001b[0;34m.\u001b[0m\u001b[0mDataFrame\u001b[0m\u001b[0;34m(\u001b[0m\u001b[0mcartola_api\u001b[0m\u001b[0;34m.\u001b[0m\u001b[0mread_rounddata\u001b[0m\u001b[0;34m(\u001b[0m\u001b[0mround\u001b[0m\u001b[0;34m)\u001b[0m\u001b[0;34m[\u001b[0m\u001b[0;34m'partidas'\u001b[0m\u001b[0;34m]\u001b[0m\u001b[0;34m)\u001b[0m\u001b[0;34m\u001b[0m\u001b[0m\n\u001b[0m\u001b[1;32m     87\u001b[0m         \u001b[0mdf\u001b[0m\u001b[0;34m[\u001b[0m\u001b[0;34m'rodada_id'\u001b[0m\u001b[0;34m]\u001b[0m \u001b[0;34m=\u001b[0m \u001b[0mround\u001b[0m\u001b[0;34m\u001b[0m\u001b[0m\n\u001b[1;32m     88\u001b[0m         \u001b[0mself\u001b[0m\u001b[0;34m.\u001b[0m\u001b[0mrounds_table\u001b[0m\u001b[0;34m.\u001b[0m\u001b[0mappend\u001b[0m\u001b[0;34m(\u001b[0m\u001b[0mdf\u001b[0m\u001b[0;34m)\u001b[0m\u001b[0;34m\u001b[0m\u001b[0m\n",
      "\u001b[0;32m~/PycharmProjects/Cartola/cartolafc_api.py\u001b[0m in \u001b[0;36mread_rounddata\u001b[0;34m(self, r)\u001b[0m\n\u001b[1;32m     26\u001b[0m \u001b[0;34m\u001b[0m\u001b[0m\n\u001b[1;32m     27\u001b[0m         \u001b[0mr\u001b[0m \u001b[0;34m=\u001b[0m \u001b[0mrequests\u001b[0m\u001b[0;34m.\u001b[0m\u001b[0mget\u001b[0m\u001b[0;34m(\u001b[0m\u001b[0mself\u001b[0m\u001b[0;34m.\u001b[0m\u001b[0murlmatches\u001b[0m\u001b[0;34m+\u001b[0m\u001b[0mstrround\u001b[0m\u001b[0;34m)\u001b[0m\u001b[0;34m\u001b[0m\u001b[0m\n\u001b[0;32m---> 28\u001b[0;31m         \u001b[0mself\u001b[0m\u001b[0;34m.\u001b[0m\u001b[0mmatchesdata\u001b[0m \u001b[0;34m=\u001b[0m \u001b[0mjson\u001b[0m\u001b[0;34m.\u001b[0m\u001b[0mloads\u001b[0m\u001b[0;34m(\u001b[0m\u001b[0mr\u001b[0m\u001b[0;34m.\u001b[0m\u001b[0mtext\u001b[0m\u001b[0;34m)\u001b[0m\u001b[0;34m\u001b[0m\u001b[0m\n\u001b[0m\u001b[1;32m     29\u001b[0m         \u001b[0;32mreturn\u001b[0m \u001b[0mself\u001b[0m\u001b[0;34m.\u001b[0m\u001b[0mmatchesdata\u001b[0m\u001b[0;34m\u001b[0m\u001b[0m\n\u001b[1;32m     30\u001b[0m \u001b[0;34m\u001b[0m\u001b[0m\n",
      "\u001b[0;32m/Library/Frameworks/Python.framework/Versions/3.6/lib/python3.6/json/__init__.py\u001b[0m in \u001b[0;36mloads\u001b[0;34m(s, encoding, cls, object_hook, parse_float, parse_int, parse_constant, object_pairs_hook, **kw)\u001b[0m\n\u001b[1;32m    352\u001b[0m             \u001b[0mparse_int\u001b[0m \u001b[0;32mis\u001b[0m \u001b[0;32mNone\u001b[0m \u001b[0;32mand\u001b[0m \u001b[0mparse_float\u001b[0m \u001b[0;32mis\u001b[0m \u001b[0;32mNone\u001b[0m \u001b[0;32mand\u001b[0m\u001b[0;34m\u001b[0m\u001b[0m\n\u001b[1;32m    353\u001b[0m             parse_constant is None and object_pairs_hook is None and not kw):\n\u001b[0;32m--> 354\u001b[0;31m         \u001b[0;32mreturn\u001b[0m \u001b[0m_default_decoder\u001b[0m\u001b[0;34m.\u001b[0m\u001b[0mdecode\u001b[0m\u001b[0;34m(\u001b[0m\u001b[0ms\u001b[0m\u001b[0;34m)\u001b[0m\u001b[0;34m\u001b[0m\u001b[0m\n\u001b[0m\u001b[1;32m    355\u001b[0m     \u001b[0;32mif\u001b[0m \u001b[0mcls\u001b[0m \u001b[0;32mis\u001b[0m \u001b[0;32mNone\u001b[0m\u001b[0;34m:\u001b[0m\u001b[0;34m\u001b[0m\u001b[0m\n\u001b[1;32m    356\u001b[0m         \u001b[0mcls\u001b[0m \u001b[0;34m=\u001b[0m \u001b[0mJSONDecoder\u001b[0m\u001b[0;34m\u001b[0m\u001b[0m\n",
      "\u001b[0;32m/Library/Frameworks/Python.framework/Versions/3.6/lib/python3.6/json/decoder.py\u001b[0m in \u001b[0;36mdecode\u001b[0;34m(self, s, _w)\u001b[0m\n\u001b[1;32m    337\u001b[0m \u001b[0;34m\u001b[0m\u001b[0m\n\u001b[1;32m    338\u001b[0m         \"\"\"\n\u001b[0;32m--> 339\u001b[0;31m         \u001b[0mobj\u001b[0m\u001b[0;34m,\u001b[0m \u001b[0mend\u001b[0m \u001b[0;34m=\u001b[0m \u001b[0mself\u001b[0m\u001b[0;34m.\u001b[0m\u001b[0mraw_decode\u001b[0m\u001b[0;34m(\u001b[0m\u001b[0ms\u001b[0m\u001b[0;34m,\u001b[0m \u001b[0midx\u001b[0m\u001b[0;34m=\u001b[0m\u001b[0m_w\u001b[0m\u001b[0;34m(\u001b[0m\u001b[0ms\u001b[0m\u001b[0;34m,\u001b[0m \u001b[0;36m0\u001b[0m\u001b[0;34m)\u001b[0m\u001b[0;34m.\u001b[0m\u001b[0mend\u001b[0m\u001b[0;34m(\u001b[0m\u001b[0;34m)\u001b[0m\u001b[0;34m)\u001b[0m\u001b[0;34m\u001b[0m\u001b[0m\n\u001b[0m\u001b[1;32m    340\u001b[0m         \u001b[0mend\u001b[0m \u001b[0;34m=\u001b[0m \u001b[0m_w\u001b[0m\u001b[0;34m(\u001b[0m\u001b[0ms\u001b[0m\u001b[0;34m,\u001b[0m \u001b[0mend\u001b[0m\u001b[0;34m)\u001b[0m\u001b[0;34m.\u001b[0m\u001b[0mend\u001b[0m\u001b[0;34m(\u001b[0m\u001b[0;34m)\u001b[0m\u001b[0;34m\u001b[0m\u001b[0m\n\u001b[1;32m    341\u001b[0m         \u001b[0;32mif\u001b[0m \u001b[0mend\u001b[0m \u001b[0;34m!=\u001b[0m \u001b[0mlen\u001b[0m\u001b[0;34m(\u001b[0m\u001b[0ms\u001b[0m\u001b[0;34m)\u001b[0m\u001b[0;34m:\u001b[0m\u001b[0;34m\u001b[0m\u001b[0m\n",
      "\u001b[0;32m/Library/Frameworks/Python.framework/Versions/3.6/lib/python3.6/json/decoder.py\u001b[0m in \u001b[0;36mraw_decode\u001b[0;34m(self, s, idx)\u001b[0m\n\u001b[1;32m    355\u001b[0m             \u001b[0mobj\u001b[0m\u001b[0;34m,\u001b[0m \u001b[0mend\u001b[0m \u001b[0;34m=\u001b[0m \u001b[0mself\u001b[0m\u001b[0;34m.\u001b[0m\u001b[0mscan_once\u001b[0m\u001b[0;34m(\u001b[0m\u001b[0ms\u001b[0m\u001b[0;34m,\u001b[0m \u001b[0midx\u001b[0m\u001b[0;34m)\u001b[0m\u001b[0;34m\u001b[0m\u001b[0m\n\u001b[1;32m    356\u001b[0m         \u001b[0;32mexcept\u001b[0m \u001b[0mStopIteration\u001b[0m \u001b[0;32mas\u001b[0m \u001b[0merr\u001b[0m\u001b[0;34m:\u001b[0m\u001b[0;34m\u001b[0m\u001b[0m\n\u001b[0;32m--> 357\u001b[0;31m             \u001b[0;32mraise\u001b[0m \u001b[0mJSONDecodeError\u001b[0m\u001b[0;34m(\u001b[0m\u001b[0;34m\"Expecting value\"\u001b[0m\u001b[0;34m,\u001b[0m \u001b[0ms\u001b[0m\u001b[0;34m,\u001b[0m \u001b[0merr\u001b[0m\u001b[0;34m.\u001b[0m\u001b[0mvalue\u001b[0m\u001b[0;34m)\u001b[0m \u001b[0;32mfrom\u001b[0m \u001b[0;32mNone\u001b[0m\u001b[0;34m\u001b[0m\u001b[0m\n\u001b[0m\u001b[1;32m    358\u001b[0m         \u001b[0;32mreturn\u001b[0m \u001b[0mobj\u001b[0m\u001b[0;34m,\u001b[0m \u001b[0mend\u001b[0m\u001b[0;34m\u001b[0m\u001b[0m\n",
      "\u001b[0;31mJSONDecodeError\u001b[0m: Expecting value: line 1 column 1 (char 0)"
     ]
    }
   ],
   "source": [
    "import cartoleiro\n",
    "\n",
    "cart = cartoleiro.Cartoleiro()\n",
    "\n",
    "print(cart.read_last_round())"
   ]
  },
  {
   "cell_type": "code",
   "execution_count": null,
   "metadata": {},
   "outputs": [],
   "source": []
  }
 ],
 "metadata": {
  "kernelspec": {
   "display_name": "Python 3",
   "language": "python",
   "name": "python3"
  },
  "language_info": {
   "codemirror_mode": {
    "name": "ipython",
    "version": 3
   },
   "file_extension": ".py",
   "mimetype": "text/x-python",
   "name": "python",
   "nbconvert_exporter": "python",
   "pygments_lexer": "ipython3",
   "version": "3.6.1"
  }
 },
 "nbformat": 4,
 "nbformat_minor": 1
}
