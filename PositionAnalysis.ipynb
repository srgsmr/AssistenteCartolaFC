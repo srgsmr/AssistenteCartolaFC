{
 "cells": [
  {
   "cell_type": "code",
   "execution_count": 132,
   "metadata": {
    "collapsed": false
   },
   "outputs": [
    {
     "name": "stdout",
     "output_type": "stream",
     "text": [
      "   atleta_id         apelido  rodada_id scout\n0      50361     Rafael Lima          1  None\n1      38506            Lima          1  None\n2      37655    Rafael Moura          1  None\n3      50401   Gerson Magrão          1  None\n4      38632  Matheus Ferraz          1  None\n5      50421          Wesley          1  None\n6      60822  Renan Oliveira          1  None\n7      60788      Marquinhos          1  None\n8      83004           Otero          1  None\n9      38909           Diego          1  None\n"
     ]
    },
    {
     "data": {
      "text/plain": [
       "791"
      ]
     },
     "execution_count": 132,
     "metadata": {},
     "output_type": "execute_result"
    }
   ],
   "source": [
    "from cartolafc_api import cartola_api\n",
    "import pandas as pd\n",
    "\n",
    "atletas = cartola_api.read_data()\n",
    "df_atletas = pd.DataFrame(atletas[\"atletas\"])\n",
    "print(df_atletas[['atleta_id','apelido','rodada_id', 'scout']].head(10))\n",
    "df_atletas.shape[0]\n",
    "# print(df_atletas[df_atletas.clube_id == 284])\n"
   ]
  },
  {
   "cell_type": "code",
   "execution_count": 130,
   "metadata": {},
   "outputs": [
    {
     "name": "stdout",
     "output_type": "stream",
     "text": [
      "                       A   CA  CV  DD   FC   FD   FF   FS  FT    G  GC  GS  \\\nrodada_id atleta_id                                                          \n1         98765      NaN  NaN NaN NaN  NaN  NaN  NaN  NaN NaN  NaN NaN NaN   \n          83004      NaN  NaN NaN NaN  1.0  2.0  2.0  2.0 NaN  1.0 NaN NaN   \n          38506      NaN  NaN NaN NaN  NaN  NaN  NaN  NaN NaN  NaN NaN NaN   \n          101716     NaN  NaN NaN NaN  NaN  NaN  NaN  NaN NaN  NaN NaN NaN   \n          97619      NaN  NaN NaN NaN  NaN  NaN  NaN  NaN NaN  NaN NaN NaN   \n          61033      NaN  NaN NaN NaN  1.0  NaN  NaN  2.0 NaN  2.0 NaN NaN   \n          38350      NaN  NaN NaN NaN  NaN  NaN  NaN  NaN NaN  NaN NaN NaN   \n          99817      NaN  1.0 NaN NaN  2.0  NaN  NaN  1.0 NaN  NaN NaN NaN   \n          37655      1.0  NaN NaN NaN  1.0  NaN  1.0  NaN NaN  NaN NaN NaN   \n          38909      NaN  1.0 NaN NaN  3.0  NaN  1.0  8.0 NaN  NaN NaN NaN   \n\n                       I   PE   RB  SG  \nrodada_id atleta_id                     \n1         98765      NaN  NaN  NaN NaN  \n          83004      1.0  NaN  3.0 NaN  \n          38506      NaN  NaN  NaN NaN  \n          101716     NaN  NaN  NaN NaN  \n          97619      NaN  NaN  NaN NaN  \n          61033      NaN  5.0  1.0 NaN  \n          38350      NaN  NaN  NaN NaN  \n          99817      NaN  2.0  2.0 NaN  \n          37655      1.0  4.0  1.0 NaN  \n          38909      1.0  5.0  1.0 NaN  \n"
     ]
    }
   ],
   "source": [
    "#scouts = pd.DataFrame(df_atletas.loc[1,'scout'])\n",
    "#for atleta in df_atletas:\n",
    "    #input = dict(atleta_id=atleta['atleta_id'])\n",
    "    #input.update(atleta['scouts'])\n",
    "    #scouts.append(atleta['scouts'], ignore_index=True)\n",
    "#print(scouts.head())\n",
    "#print(df_atletas.loc[:,'scout'])\n",
    "#print(df_atletas.loc[1])\n",
    "\n",
    "#scouts = pd.DataFrame([df_atletas.loc[1,'atleta_id'], df_atletas.loc[1,'scout']], index=)\n",
    "scouts = pd.DataFrame()\n",
    "l = []\n",
    "for index, atleta in df_atletas.iterrows():\n",
    "    d = atleta['scout']\n",
    "    d['atleta_id'] = atleta['atleta_id']\n",
    "    d['rodada_id'] = atleta['rodada_id']\n",
    "    l.append(d)\n",
    "scouts = scouts.append(l)\n",
    "\n",
    "scouts = scouts.set_index(['rodada_id','atleta_id'])\n",
    "print(scouts.head(10))\n"
   ]
  },
  {
   "cell_type": "markdown",
   "metadata": {},
   "source": []
  },
  {
   "cell_type": "code",
   "execution_count": 17,
   "metadata": {
    "collapsed": true
   },
   "outputs": [
    {
     "name": "stdout",
     "output_type": "stream",
     "text": [
      "<class 'pandas.core.frame.DataFrame'>\nInt64Index: 234 entries, 1 to 782\nData columns (total 15 columns):\napelido         234 non-null object\natleta_id       234 non-null int64\nclube_id        234 non-null int64\nfoto            234 non-null object\njogos_num       234 non-null int64\nmedia_num       234 non-null float64\nnome            234 non-null object\npontos_num      234 non-null float64\nposicao_id      234 non-null int64\npreco_num       234 non-null float64\nrodada_id       234 non-null int64\nscout           234 non-null object\nslug            234 non-null object\nstatus_id       234 non-null int64\nvariacao_num    234 non-null float64\ndtypes: float64(4), int64(6), object(5)\nmemory usage: 29.2+ KB\nNone\n"
     ]
    }
   ],
   "source": [
    "df_atletas = df_atletas[df_atletas.status_id == 7]\n",
    "print(df_atletas.info())"
   ]
  },
  {
   "cell_type": "code",
   "execution_count": 18,
   "metadata": {},
   "outputs": [
    {
     "name": "stdout",
     "output_type": "stream",
     "text": [
      "  aproveitamento_mandante aproveitamento_visitante  clube_casa_id  \\\n0             [, , , , d]              [, , , , e]            282   \n1             [, , , , d]              [, , , , v]            289   \n2             [, , , , d]              [, , , , v]            315   \n3             [, , , , d]              [, , , , v]            265   \n4             [, , , , d]              [, , , , d]            266   \n\n   clube_casa_posicao  clube_visitante_id  clube_visitante_posicao  \\\n0                  14                 287                        9   \n1                  15                 264                        5   \n2                  20                 267                        6   \n3                  17                 277                        3   \n4                  13                 283                       16   \n\n            local         partida_data  partida_id placar_oficial_mandante  \\\n0   Independência  2018-04-22 16:00:00      221179                    None   \n1  Durival Britto  2018-04-22 11:00:00      221180                    None   \n2     Arena Condá  2018-04-22 16:00:00      221181                    None   \n3      Fonte Nova  2018-04-21 16:00:00      221182                    None   \n4        Maracanã  2018-04-22 16:00:00      221183                    None   \n\n  placar_oficial_visitante url_confronto url_transmissao  valida  \n0                     None                                  True  \n1                     None                                  True  \n2                     None                                  True  \n3                     None                                  True  \n4                     None                                  True  \n"
     ]
    }
   ],
   "source": [
    "jogos = pd.DataFrame(cartola_api.read_rounddata()['partidas'])\n",
    "print(jogos.head())"
   ]
  },
  {
   "cell_type": "code",
   "execution_count": 137,
   "metadata": {},
   "outputs": [
    {
     "ename": "JSONDecodeError",
     "evalue": "Expecting value: line 1 column 1 (char 0)",
     "traceback": [
      "\u001b[0;31m---------------------------------------------------------------------------\u001b[0m",
      "\u001b[0;31mJSONDecodeError\u001b[0m                           Traceback (most recent call last)",
      "\u001b[0;32m<ipython-input-137-8e47abd59247>\u001b[0m in \u001b[0;36m<module>\u001b[0;34m()\u001b[0m\n\u001b[1;32m      3\u001b[0m \u001b[0mcart\u001b[0m \u001b[0;34m=\u001b[0m \u001b[0mcartoleiro\u001b[0m\u001b[0;34m.\u001b[0m\u001b[0mCartoleiro\u001b[0m\u001b[0;34m(\u001b[0m\u001b[0;34m)\u001b[0m\u001b[0;34m\u001b[0m\u001b[0m\n\u001b[1;32m      4\u001b[0m \u001b[0;34m\u001b[0m\u001b[0m\n\u001b[0;32m----> 5\u001b[0;31m \u001b[0mprint\u001b[0m\u001b[0;34m(\u001b[0m\u001b[0mcart\u001b[0m\u001b[0;34m.\u001b[0m\u001b[0mread_last_round\u001b[0m\u001b[0;34m(\u001b[0m\u001b[0;34m)\u001b[0m\u001b[0;34m)\u001b[0m\u001b[0;34m\u001b[0m\u001b[0m\n\u001b[0m",
      "\u001b[0;32m~/PycharmProjects/Cartola/cartoleiro.py\u001b[0m in \u001b[0;36mread_last_round\u001b[0;34m(self)\u001b[0m\n\u001b[1;32m     84\u001b[0m         \u001b[0;32melse\u001b[0m\u001b[0;34m:\u001b[0m\u001b[0;34m\u001b[0m\u001b[0m\n\u001b[1;32m     85\u001b[0m             \u001b[0mround\u001b[0m \u001b[0;34m=\u001b[0m \u001b[0mself\u001b[0m\u001b[0;34m.\u001b[0m\u001b[0mrounds_table\u001b[0m\u001b[0;34m[\u001b[0m\u001b[0;34m'rodada_id'\u001b[0m\u001b[0;34m]\u001b[0m\u001b[0;34m.\u001b[0m\u001b[0mmax\u001b[0m\u001b[0;34m(\u001b[0m\u001b[0;34m)\u001b[0m \u001b[0;34m+\u001b[0m \u001b[0;36m1\u001b[0m\u001b[0;34m\u001b[0m\u001b[0m\n\u001b[0;32m---> 86\u001b[0;31m         \u001b[0mdf\u001b[0m \u001b[0;34m=\u001b[0m \u001b[0mpd\u001b[0m\u001b[0;34m.\u001b[0m\u001b[0mDataFrame\u001b[0m\u001b[0;34m(\u001b[0m\u001b[0mcartola_api\u001b[0m\u001b[0;34m.\u001b[0m\u001b[0mread_rounddata\u001b[0m\u001b[0;34m(\u001b[0m\u001b[0mround\u001b[0m\u001b[0;34m)\u001b[0m\u001b[0;34m[\u001b[0m\u001b[0;34m'partidas'\u001b[0m\u001b[0;34m]\u001b[0m\u001b[0;34m)\u001b[0m\u001b[0;34m\u001b[0m\u001b[0m\n\u001b[0m\u001b[1;32m     87\u001b[0m         \u001b[0mdf\u001b[0m\u001b[0;34m[\u001b[0m\u001b[0;34m'rodada_id'\u001b[0m\u001b[0;34m]\u001b[0m \u001b[0;34m=\u001b[0m \u001b[0mround\u001b[0m\u001b[0;34m\u001b[0m\u001b[0m\n\u001b[1;32m     88\u001b[0m         \u001b[0mself\u001b[0m\u001b[0;34m.\u001b[0m\u001b[0mrounds_table\u001b[0m\u001b[0;34m.\u001b[0m\u001b[0mappend\u001b[0m\u001b[0;34m(\u001b[0m\u001b[0mdf\u001b[0m\u001b[0;34m)\u001b[0m\u001b[0;34m\u001b[0m\u001b[0m\n",
      "\u001b[0;32m~/PycharmProjects/Cartola/cartolafc_api.py\u001b[0m in \u001b[0;36mread_rounddata\u001b[0;34m(self, r)\u001b[0m\n\u001b[1;32m     26\u001b[0m \u001b[0;34m\u001b[0m\u001b[0m\n\u001b[1;32m     27\u001b[0m         \u001b[0mr\u001b[0m \u001b[0;34m=\u001b[0m \u001b[0mrequests\u001b[0m\u001b[0;34m.\u001b[0m\u001b[0mget\u001b[0m\u001b[0;34m(\u001b[0m\u001b[0mself\u001b[0m\u001b[0;34m.\u001b[0m\u001b[0murlmatches\u001b[0m\u001b[0;34m+\u001b[0m\u001b[0mstrround\u001b[0m\u001b[0;34m)\u001b[0m\u001b[0;34m\u001b[0m\u001b[0m\n\u001b[0;32m---> 28\u001b[0;31m         \u001b[0mself\u001b[0m\u001b[0;34m.\u001b[0m\u001b[0mmatchesdata\u001b[0m \u001b[0;34m=\u001b[0m \u001b[0mjson\u001b[0m\u001b[0;34m.\u001b[0m\u001b[0mloads\u001b[0m\u001b[0;34m(\u001b[0m\u001b[0mr\u001b[0m\u001b[0;34m.\u001b[0m\u001b[0mtext\u001b[0m\u001b[0;34m)\u001b[0m\u001b[0;34m\u001b[0m\u001b[0m\n\u001b[0m\u001b[1;32m     29\u001b[0m         \u001b[0;32mreturn\u001b[0m \u001b[0mself\u001b[0m\u001b[0;34m.\u001b[0m\u001b[0mmatchesdata\u001b[0m\u001b[0;34m\u001b[0m\u001b[0m\n\u001b[1;32m     30\u001b[0m \u001b[0;34m\u001b[0m\u001b[0m\n",
      "\u001b[0;32m/Library/Frameworks/Python.framework/Versions/3.6/lib/python3.6/json/__init__.py\u001b[0m in \u001b[0;36mloads\u001b[0;34m(s, encoding, cls, object_hook, parse_float, parse_int, parse_constant, object_pairs_hook, **kw)\u001b[0m\n\u001b[1;32m    352\u001b[0m             \u001b[0mparse_int\u001b[0m \u001b[0;32mis\u001b[0m \u001b[0;32mNone\u001b[0m \u001b[0;32mand\u001b[0m \u001b[0mparse_float\u001b[0m \u001b[0;32mis\u001b[0m \u001b[0;32mNone\u001b[0m \u001b[0;32mand\u001b[0m\u001b[0;34m\u001b[0m\u001b[0m\n\u001b[1;32m    353\u001b[0m             parse_constant is None and object_pairs_hook is None and not kw):\n\u001b[0;32m--> 354\u001b[0;31m         \u001b[0;32mreturn\u001b[0m \u001b[0m_default_decoder\u001b[0m\u001b[0;34m.\u001b[0m\u001b[0mdecode\u001b[0m\u001b[0;34m(\u001b[0m\u001b[0ms\u001b[0m\u001b[0;34m)\u001b[0m\u001b[0;34m\u001b[0m\u001b[0m\n\u001b[0m\u001b[1;32m    355\u001b[0m     \u001b[0;32mif\u001b[0m \u001b[0mcls\u001b[0m \u001b[0;32mis\u001b[0m \u001b[0;32mNone\u001b[0m\u001b[0;34m:\u001b[0m\u001b[0;34m\u001b[0m\u001b[0m\n\u001b[1;32m    356\u001b[0m         \u001b[0mcls\u001b[0m \u001b[0;34m=\u001b[0m \u001b[0mJSONDecoder\u001b[0m\u001b[0;34m\u001b[0m\u001b[0m\n",
      "\u001b[0;32m/Library/Frameworks/Python.framework/Versions/3.6/lib/python3.6/json/decoder.py\u001b[0m in \u001b[0;36mdecode\u001b[0;34m(self, s, _w)\u001b[0m\n\u001b[1;32m    337\u001b[0m \u001b[0;34m\u001b[0m\u001b[0m\n\u001b[1;32m    338\u001b[0m         \"\"\"\n\u001b[0;32m--> 339\u001b[0;31m         \u001b[0mobj\u001b[0m\u001b[0;34m,\u001b[0m \u001b[0mend\u001b[0m \u001b[0;34m=\u001b[0m \u001b[0mself\u001b[0m\u001b[0;34m.\u001b[0m\u001b[0mraw_decode\u001b[0m\u001b[0;34m(\u001b[0m\u001b[0ms\u001b[0m\u001b[0;34m,\u001b[0m \u001b[0midx\u001b[0m\u001b[0;34m=\u001b[0m\u001b[0m_w\u001b[0m\u001b[0;34m(\u001b[0m\u001b[0ms\u001b[0m\u001b[0;34m,\u001b[0m \u001b[0;36m0\u001b[0m\u001b[0;34m)\u001b[0m\u001b[0;34m.\u001b[0m\u001b[0mend\u001b[0m\u001b[0;34m(\u001b[0m\u001b[0;34m)\u001b[0m\u001b[0;34m)\u001b[0m\u001b[0;34m\u001b[0m\u001b[0m\n\u001b[0m\u001b[1;32m    340\u001b[0m         \u001b[0mend\u001b[0m \u001b[0;34m=\u001b[0m \u001b[0m_w\u001b[0m\u001b[0;34m(\u001b[0m\u001b[0ms\u001b[0m\u001b[0;34m,\u001b[0m \u001b[0mend\u001b[0m\u001b[0;34m)\u001b[0m\u001b[0;34m.\u001b[0m\u001b[0mend\u001b[0m\u001b[0;34m(\u001b[0m\u001b[0;34m)\u001b[0m\u001b[0;34m\u001b[0m\u001b[0m\n\u001b[1;32m    341\u001b[0m         \u001b[0;32mif\u001b[0m \u001b[0mend\u001b[0m \u001b[0;34m!=\u001b[0m \u001b[0mlen\u001b[0m\u001b[0;34m(\u001b[0m\u001b[0ms\u001b[0m\u001b[0;34m)\u001b[0m\u001b[0;34m:\u001b[0m\u001b[0;34m\u001b[0m\u001b[0m\n",
      "\u001b[0;32m/Library/Frameworks/Python.framework/Versions/3.6/lib/python3.6/json/decoder.py\u001b[0m in \u001b[0;36mraw_decode\u001b[0;34m(self, s, idx)\u001b[0m\n\u001b[1;32m    355\u001b[0m             \u001b[0mobj\u001b[0m\u001b[0;34m,\u001b[0m \u001b[0mend\u001b[0m \u001b[0;34m=\u001b[0m \u001b[0mself\u001b[0m\u001b[0;34m.\u001b[0m\u001b[0mscan_once\u001b[0m\u001b[0;34m(\u001b[0m\u001b[0ms\u001b[0m\u001b[0;34m,\u001b[0m \u001b[0midx\u001b[0m\u001b[0;34m)\u001b[0m\u001b[0;34m\u001b[0m\u001b[0m\n\u001b[1;32m    356\u001b[0m         \u001b[0;32mexcept\u001b[0m \u001b[0mStopIteration\u001b[0m \u001b[0;32mas\u001b[0m \u001b[0merr\u001b[0m\u001b[0;34m:\u001b[0m\u001b[0;34m\u001b[0m\u001b[0m\n\u001b[0;32m--> 357\u001b[0;31m             \u001b[0;32mraise\u001b[0m \u001b[0mJSONDecodeError\u001b[0m\u001b[0;34m(\u001b[0m\u001b[0;34m\"Expecting value\"\u001b[0m\u001b[0;34m,\u001b[0m \u001b[0ms\u001b[0m\u001b[0;34m,\u001b[0m \u001b[0merr\u001b[0m\u001b[0;34m.\u001b[0m\u001b[0mvalue\u001b[0m\u001b[0;34m)\u001b[0m \u001b[0;32mfrom\u001b[0m \u001b[0;32mNone\u001b[0m\u001b[0;34m\u001b[0m\u001b[0m\n\u001b[0m\u001b[1;32m    358\u001b[0m         \u001b[0;32mreturn\u001b[0m \u001b[0mobj\u001b[0m\u001b[0;34m,\u001b[0m \u001b[0mend\u001b[0m\u001b[0;34m\u001b[0m\u001b[0m\n",
      "\u001b[0;31mJSONDecodeError\u001b[0m: Expecting value: line 1 column 1 (char 0)"
     ],
     "output_type": "error"
    }
   ],
   "source": [
    "import cartoleiro\n",
    "\n",
    "cart = cartoleiro.Cartoleiro()\n",
    "\n",
    "print(cart.read_last_round())"
   ]
  },
  {
   "cell_type": "code",
   "execution_count": null,
   "metadata": {},
   "outputs": [],
   "source": []
  }
 ],
 "metadata": {
  "kernelspec": {
   "display_name": "Python 2",
   "language": "python",
   "name": "python2"
  },
  "language_info": {
   "codemirror_mode": {
    "name": "ipython",
    "version": 2
   },
   "file_extension": ".py",
   "mimetype": "text/x-python",
   "name": "python",
   "nbconvert_exporter": "python",
   "pygments_lexer": "ipython2",
   "version": "2.7.6"
  }
 },
 "nbformat": 4,
 "nbformat_minor": 0
}
