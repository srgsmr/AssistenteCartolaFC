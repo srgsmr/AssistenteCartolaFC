{
 "cells": [
  {
   "cell_type": "code",
   "execution_count": 13,
   "metadata": {
    "collapsed": true
   },
   "outputs": [
    {
     "name": "stdout",
     "output_type": "stream",
     "text": [
      "<class 'pandas.core.frame.DataFrame'>\nRangeIndex: 788 entries, 0 to 787\nData columns (total 14 columns):\napelido         788 non-null object\natleta_id       788 non-null int64\nclube_id        788 non-null int64\nfoto            754 non-null object\njogos_num       788 non-null int64\nmedia_num       788 non-null int64\nnome            788 non-null object\npontos_num      788 non-null int64\nposicao_id      788 non-null int64\npreco_num       788 non-null int64\nrodada_id       788 non-null int64\nscout           0 non-null object\nstatus_id       788 non-null int64\nvariacao_num    788 non-null int64\ndtypes: int64(10), object(4)\nmemory usage: 86.3+ KB\nNone\n"
     ]
    }
   ],
   "source": [
    "from cartolafc_api import cartola_api\n",
    "import pandas as pd\n",
    "\n",
    "atletas = cartola_api.read_data()\n",
    "df_atletas = pd.DataFrame(atletas[\"atletas\"])\n",
    "print(df_atletas.info())\n"
   ]
  },
  {
   "cell_type": "markdown",
   "metadata": {},
   "source": []
  },
  {
   "cell_type": "code",
   "execution_count": 14,
   "metadata": {
    "collapsed": true
   },
   "outputs": [
    {
     "name": "stdout",
     "output_type": "stream",
     "text": [
      "<class 'pandas.core.frame.DataFrame'>\nInt64Index: 222 entries, 2 to 787\nData columns (total 14 columns):\napelido         222 non-null object\natleta_id       222 non-null int64\nclube_id        222 non-null int64\nfoto            222 non-null object\njogos_num       222 non-null int64\nmedia_num       222 non-null int64\nnome            222 non-null object\npontos_num      222 non-null int64\nposicao_id      222 non-null int64\npreco_num       222 non-null int64\nrodada_id       222 non-null int64\nscout           0 non-null object\nstatus_id       222 non-null int64\nvariacao_num    222 non-null int64\ndtypes: int64(10), object(4)\nmemory usage: 26.0+ KB\nNone\n"
     ]
    }
   ],
   "source": [
    "df_atletas = df_atletas[df_atletas.status_id == 7]\n",
    "print(df_atletas.info())"
   ]
  },
  {
   "cell_type": "code",
   "execution_count": 23,
   "metadata": {},
   "outputs": [
    {
     "name": "stdout",
     "output_type": "stream",
     "text": [
      "  aproveitamento_mandante aproveitamento_visitante  clube_casa_id  \\\n0             [, , , , e]              [, , , , e]            283   \n1              [, , , , ]               [, , , , ]            293   \n2              [, , , , ]               [, , , , ]            327   \n3             [, , , , e]              [, , , , e]            287   \n4              [, , , , ]               [, , , , ]            267   \n5              [, , , , ]               [, , , , ]            263   \n6              [, , , , ]               [, , , , ]            276   \n7             [, , , , e]              [, , , , e]            277   \n8              [, , , , ]               [, , , , ]            264   \n9              [, , , , ]               [, , , , ]            285   \n\n   clube_casa_posicao  clube_visitante_id  clube_visitante_posicao  \\\n0                   1                 284                        1   \n1                   3                 315                        3   \n2                   3                 292                        3   \n3                   3                 262                        3   \n4                   3                 282                        3   \n5                   3                 275                        3   \n6                   3                 289                        3   \n7                   3                 354                        3   \n8                   3                 266                        3   \n9                   3                 265                        3   \n\n               local         partida_data  partida_id  \\\n0           Mineirão  2018-04-14 16:00:00      221169   \n1   Arena da Baixada  2018-04-15 19:00:00      221170   \n2      Independência  2018-04-15 11:00:00      221171   \n3           Barradão  2018-04-14 19:00:00      221172   \n4       São Januário  2018-04-15 16:00:00      221173   \n5           Engenhão  2018-04-16 20:00:00      221174   \n6            Morumbi  2018-04-16 20:00:00      221175   \n7           Pacaembu  2018-04-14 21:00:00      221176   \n8  Arena Corinthians  2018-04-15 16:00:00      221177   \n9          Beira-Rio  2018-04-15 16:00:00      221178   \n\n   placar_oficial_mandante  placar_oficial_visitante url_confronto  \\\n0                      0.0                       0.0                 \n1                      NaN                       NaN                 \n2                      NaN                       NaN                 \n3                      NaN                       NaN                 \n4                      NaN                       NaN                 \n5                      NaN                       NaN                 \n6                      NaN                       NaN                 \n7                      NaN                       NaN                 \n8                      NaN                       NaN                 \n9                      NaN                       NaN                 \n\n  url_transmissao  valida  \n0                    True  \n1                    True  \n2                    True  \n3                    True  \n4                    True  \n5                    True  \n6                    True  \n7                    True  \n8                    True  \n9                    True  \n"
     ]
    }
   ],
   "source": [
    "jogos = pd.DataFrame(cartola_api.read_rounddata()['partidas'])\n",
    "print(jogos)"
   ]
  },
  {
   "cell_type": "code",
   "execution_count": null,
   "metadata": {},
   "outputs": [],
   "source": []
  }
 ],
 "metadata": {
  "kernelspec": {
   "display_name": "Python 2",
   "language": "python",
   "name": "python2"
  },
  "language_info": {
   "codemirror_mode": {
    "name": "ipython",
    "version": 2
   },
   "file_extension": ".py",
   "mimetype": "text/x-python",
   "name": "python",
   "nbconvert_exporter": "python",
   "pygments_lexer": "ipython2",
   "version": "2.7.6"
  }
 },
 "nbformat": 4,
 "nbformat_minor": 0
}
