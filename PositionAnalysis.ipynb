{
 "cells": [
  {
   "cell_type": "code",
   "execution_count": 71,
   "metadata": {
    "collapsed": false
   },
   "outputs": [
    {
     "name": "stdout",
     "output_type": "stream",
     "text": [
      "   atleta_id        apelido  rodada_id  \\\n0      98765     Marquinhos          1   \n1      83004          Otero          1   \n2      38506           Lima          1   \n3     101716  Bruno Roberto          1   \n4      97619  Tomás Andrade          1   \n5      61033    Rodriguinho          1   \n6      38350  Fernando Leal          1   \n7      99817         Bremer          1   \n8      37655   Rafael Moura          1   \n9      38909          Diego          1   \n\n                                               scout  \n0                                                 {}  \n1  {'FC': 1, 'FD': 2, 'FF': 2, 'FS': 2, 'G': 1, '...  \n2                                                 {}  \n3                                                 {}  \n4                                                 {}  \n5       {'FC': 1, 'FS': 2, 'G': 2, 'PE': 5, 'RB': 1}  \n6                                                 {}  \n7      {'CA': 1, 'FC': 2, 'FS': 1, 'PE': 2, 'RB': 2}  \n8  {'A': 1, 'FC': 1, 'FF': 1, 'I': 1, 'PE': 4, 'R...  \n9  {'CA': 1, 'FC': 3, 'FF': 1, 'FS': 8, 'I': 1, '...  \n<class 'pandas.core.frame.DataFrame'>\nRangeIndex: 788 entries, 0 to 787\nData columns (total 15 columns):\napelido         788 non-null object\natleta_id       788 non-null int64\nclube_id        788 non-null int64\nfoto            754 non-null object\njogos_num       788 non-null int64\nmedia_num       788 non-null float64\nnome            788 non-null object\npontos_num      788 non-null float64\nposicao_id      788 non-null int64\npreco_num       788 non-null float64\nrodada_id       788 non-null int64\nscout           788 non-null object\nslug            788 non-null object\nstatus_id       788 non-null int64\nvariacao_num    788 non-null float64\ndtypes: float64(4), int64(6), object(5)\nmemory usage: 92.4+ KB\n"
     ]
    }
   ],
   "source": [
    "from cartolafc_api import cartola_api\n",
    "import pandas as pd\n",
    "\n",
    "atletas = cartola_api.read_data()\n",
    "df_atletas = pd.DataFrame(atletas[\"atletas\"])\n",
    "print(df_atletas[['atleta_id','apelido','rodada_id', 'scout']].head(10))\n",
    "df_atletas.info()\n",
    "# print(df_atletas[df_atletas.clube_id == 284])\n"
   ]
  },
  {
   "cell_type": "code",
   "execution_count": 130,
   "metadata": {},
   "outputs": [
    {
     "name": "stdout",
     "output_type": "stream",
     "text": [
      "                       A   CA  CV  DD   FC   FD   FF   FS  FT    G  GC  GS  \\\nrodada_id atleta_id                                                          \n1         98765      NaN  NaN NaN NaN  NaN  NaN  NaN  NaN NaN  NaN NaN NaN   \n          83004      NaN  NaN NaN NaN  1.0  2.0  2.0  2.0 NaN  1.0 NaN NaN   \n          38506      NaN  NaN NaN NaN  NaN  NaN  NaN  NaN NaN  NaN NaN NaN   \n          101716     NaN  NaN NaN NaN  NaN  NaN  NaN  NaN NaN  NaN NaN NaN   \n          97619      NaN  NaN NaN NaN  NaN  NaN  NaN  NaN NaN  NaN NaN NaN   \n          61033      NaN  NaN NaN NaN  1.0  NaN  NaN  2.0 NaN  2.0 NaN NaN   \n          38350      NaN  NaN NaN NaN  NaN  NaN  NaN  NaN NaN  NaN NaN NaN   \n          99817      NaN  1.0 NaN NaN  2.0  NaN  NaN  1.0 NaN  NaN NaN NaN   \n          37655      1.0  NaN NaN NaN  1.0  NaN  1.0  NaN NaN  NaN NaN NaN   \n          38909      NaN  1.0 NaN NaN  3.0  NaN  1.0  8.0 NaN  NaN NaN NaN   \n\n                       I   PE   RB  SG  \nrodada_id atleta_id                     \n1         98765      NaN  NaN  NaN NaN  \n          83004      1.0  NaN  3.0 NaN  \n          38506      NaN  NaN  NaN NaN  \n          101716     NaN  NaN  NaN NaN  \n          97619      NaN  NaN  NaN NaN  \n          61033      NaN  5.0  1.0 NaN  \n          38350      NaN  NaN  NaN NaN  \n          99817      NaN  2.0  2.0 NaN  \n          37655      1.0  4.0  1.0 NaN  \n          38909      1.0  5.0  1.0 NaN  \n"
     ]
    }
   ],
   "source": [
    "#scouts = pd.DataFrame(df_atletas.loc[1,'scout'])\n",
    "#for atleta in df_atletas:\n",
    "    #input = dict(atleta_id=atleta['atleta_id'])\n",
    "    #input.update(atleta['scouts'])\n",
    "    #scouts.append(atleta['scouts'], ignore_index=True)\n",
    "#print(scouts.head())\n",
    "#print(df_atletas.loc[:,'scout'])\n",
    "#print(df_atletas.loc[1])\n",
    "\n",
    "#scouts = pd.DataFrame([df_atletas.loc[1,'atleta_id'], df_atletas.loc[1,'scout']], index=)\n",
    "scouts = pd.DataFrame()\n",
    "l = []\n",
    "for index, atleta in df_atletas.iterrows():\n",
    "    d = atleta['scout']\n",
    "    d['atleta_id'] = atleta['atleta_id']\n",
    "    d['rodada_id'] = atleta['rodada_id']\n",
    "    l.append(d)\n",
    "scouts = scouts.append(l)\n",
    "\n",
    "scouts = scouts.set_index(['rodada_id','atleta_id'])\n",
    "print(scouts.head(10))\n"
   ]
  },
  {
   "cell_type": "markdown",
   "metadata": {},
   "source": []
  },
  {
   "cell_type": "code",
   "execution_count": 17,
   "metadata": {
    "collapsed": true
   },
   "outputs": [
    {
     "name": "stdout",
     "output_type": "stream",
     "text": [
      "<class 'pandas.core.frame.DataFrame'>\nInt64Index: 234 entries, 1 to 782\nData columns (total 15 columns):\napelido         234 non-null object\natleta_id       234 non-null int64\nclube_id        234 non-null int64\nfoto            234 non-null object\njogos_num       234 non-null int64\nmedia_num       234 non-null float64\nnome            234 non-null object\npontos_num      234 non-null float64\nposicao_id      234 non-null int64\npreco_num       234 non-null float64\nrodada_id       234 non-null int64\nscout           234 non-null object\nslug            234 non-null object\nstatus_id       234 non-null int64\nvariacao_num    234 non-null float64\ndtypes: float64(4), int64(6), object(5)\nmemory usage: 29.2+ KB\nNone\n"
     ]
    }
   ],
   "source": [
    "df_atletas = df_atletas[df_atletas.status_id == 7]\n",
    "print(df_atletas.info())"
   ]
  },
  {
   "cell_type": "code",
   "execution_count": 18,
   "metadata": {},
   "outputs": [
    {
     "name": "stdout",
     "output_type": "stream",
     "text": [
      "  aproveitamento_mandante aproveitamento_visitante  clube_casa_id  \\\n0             [, , , , d]              [, , , , e]            282   \n1             [, , , , d]              [, , , , v]            289   \n2             [, , , , d]              [, , , , v]            315   \n3             [, , , , d]              [, , , , v]            265   \n4             [, , , , d]              [, , , , d]            266   \n\n   clube_casa_posicao  clube_visitante_id  clube_visitante_posicao  \\\n0                  14                 287                        9   \n1                  15                 264                        5   \n2                  20                 267                        6   \n3                  17                 277                        3   \n4                  13                 283                       16   \n\n            local         partida_data  partida_id placar_oficial_mandante  \\\n0   Independência  2018-04-22 16:00:00      221179                    None   \n1  Durival Britto  2018-04-22 11:00:00      221180                    None   \n2     Arena Condá  2018-04-22 16:00:00      221181                    None   \n3      Fonte Nova  2018-04-21 16:00:00      221182                    None   \n4        Maracanã  2018-04-22 16:00:00      221183                    None   \n\n  placar_oficial_visitante url_confronto url_transmissao  valida  \n0                     None                                  True  \n1                     None                                  True  \n2                     None                                  True  \n3                     None                                  True  \n4                     None                                  True  \n"
     ]
    }
   ],
   "source": [
    "jogos = pd.DataFrame(cartola_api.read_rounddata()['partidas'])\n",
    "print(jogos.head())"
   ]
  },
  {
   "cell_type": "code",
   "execution_count": 19,
   "metadata": {},
   "outputs": [],
   "source": []
  },
  {
   "cell_type": "code",
   "execution_count": 19,
   "metadata": {},
   "outputs": [],
   "source": []
  }
 ],
 "metadata": {
  "kernelspec": {
   "display_name": "Python 2",
   "language": "python",
   "name": "python2"
  },
  "language_info": {
   "codemirror_mode": {
    "name": "ipython",
    "version": 2
   },
   "file_extension": ".py",
   "mimetype": "text/x-python",
   "name": "python",
   "nbconvert_exporter": "python",
   "pygments_lexer": "ipython2",
   "version": "2.7.6"
  }
 },
 "nbformat": 4,
 "nbformat_minor": 0
}
