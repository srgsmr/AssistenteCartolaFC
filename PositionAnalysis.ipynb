{
 "cells": [
  {
   "cell_type": "code",
   "execution_count": 3,
   "metadata": {
    "collapsed": false
   },
   "outputs": [
    {
     "name": "stdout",
     "output_type": "stream",
     "text": [
      "              apelido  atleta_id  clube_id  \\\n286           Estevão      98215       284   \n326            Cícero      37688       284   \n330     Marcelo Grohe      37770       284   \n331         Léo Moura      37701       284   \n332         Maicosuel      37851       284   \n334     Renato Gaúcho      41929       284   \n336            Maicon      38196       284   \n337           Douglas      38738       284   \n338  Marcelo Oliveira      50328       284   \n339     Paulo Miranda      68817       284   \n340             André      68690       284   \n341              Jael      60859       284   \n342           Gabriel      71572       284   \n343           Hernane      72386       284   \n344           Bressan      72491       284   \n345      Paulo Victor      68873       284   \n346      Bruno Cortez      72079       284   \n347            Madson      78077       284   \n348      Bruno Grassi      71818       284   \n349            Michel      71920       284   \n350           Alisson      81845       284   \n351     Pedro Geromel      80853       284   \n352            Ramiro      78715       284   \n353              Luan      86759       284   \n354         Kannemann      87342       284   \n355           Everton      86757       284   \n356           Balbino      89227       284   \n357           Jailson      90290       284   \n358          Thaciano      87470       284   \n359          Leonardo      86973       284   \n360              Lima      96340       284   \n361               Léo      87008       284   \n362              Pepê      91201       284   \n363            Arthur      90532       284   \n364              Kaio      92574       284   \n365           Esperon      99628       284   \n366        Léo Tilica      92617       284   \n367       Jean Pyerre      98832       284   \n368            Jadson      99629       284   \n370              Vico      95622       284   \n371           Patrick      99918       284   \n372          Dionathã      99834       284   \n373     Lucas Poletto     100132       284   \n375  Matheus Henrique     100742       284   \n376           Emanuel     100840       284   \n377            Brenno     100830       284   \n378  Guilherme Guedes     100741       284   \n379           Ericson     100839       284   \n380              Ruan     100842       284   \n384            Felipe     100843       284   \n477     Marco Saravia     101479       284   \n484      Lucas Araújo     100844       284   \n556     Luis Henrique      92128       284   \n767            Isaque     101483       284   \n768          Santiago     101481       284   \n769          Mendonça     101480       284   \n770   Rodrigo Ancheta     101482       284   \n771        Marcelinho     101722       284   \n773   Thonny Anderson     101484       284   \n\n                                                  foto  jogos_num  media_num  \\\n286                                               None          0          0   \n326  https://s.glbimg.com/es/sde/f/2018/02/07/2579c...          0          0   \n330  https://s.glbimg.com/es/sde/f/2017/04/23/33e58...          0          0   \n331  https://s.glbimg.com/es/sde/f/2017/04/23/7277c...          0          0   \n332  https://s.glbimg.com/es/sde/f/2018/03/25/8ca2b...          0          0   \n334  https://s.glbimg.com/es/sde/f/2016/10/20/11389...          0          0   \n336  https://s.glbimg.com/es/sde/f/2017/04/23/2d799...          0          0   \n337  https://s.glbimg.com/es/sde/f/2017/04/23/fa6eb...          0          0   \n338  https://s.glbimg.com/es/sde/f/2016/04/30/40189...          0          0   \n339  https://s.glbimg.com/es/sde/f/2011/08/14/7022e...          0          0   \n340  https://s.glbimg.com/es/sde/f/2018/03/26/6b300...          0          0   \n341  https://s.glbimg.com/es/sde/f/2017/04/23/585f6...          0          0   \n342  https://s.glbimg.com/es/sde/f/2017/04/23/f2550...          0          0   \n343  https://s.glbimg.com/es/sde/f/2018/03/25/dd9ea...          0          0   \n344  https://s.glbimg.com/es/sde/f/2017/04/23/06d46...          0          0   \n345  https://s.glbimg.com/es/sde/f/2017/07/19/429e3...          0          0   \n346  https://s.glbimg.com/es/sde/f/2017/04/23/69178...          0          0   \n347  https://s.glbimg.com/es/sde/f/2018/04/13/69598...          0          0   \n348  https://s.glbimg.com/es/sde/f/2017/04/23/d503f...          0          0   \n349  https://s.glbimg.com/es/sde/f/2017/04/23/555af...          0          0   \n350  https://s.glbimg.com/es/sde/f/2018/01/12/02710...          0          0   \n351  https://s.glbimg.com/es/sde/f/2017/04/23/e5097...          0          0   \n352  https://s.glbimg.com/es/sde/f/2017/04/23/01565...          0          0   \n353  https://s.glbimg.com/es/sde/f/2017/04/23/45856...          0          0   \n354  https://s.glbimg.com/es/sde/f/2017/04/23/42279...          0          0   \n355  https://s.glbimg.com/es/sde/f/2017/04/23/f8b42...          0          0   \n356  https://s.glbimg.com/es/sde/f/2016/04/30/aa305...          0          0   \n357  https://s.glbimg.com/es/sde/f/2017/04/23/bbc1e...          0          0   \n358  https://s.glbimg.com/es/sde/f/2018/01/12/42e0c...          0          0   \n359  https://s.glbimg.com/es/sde/f/2017/04/23/0cd6a...          0          0   \n360  https://s.glbimg.com/es/sde/f/2017/06/07/41b92...          0          0   \n361  https://s.glbimg.com/es/sde/f/2017/04/23/56c2f...          0          0   \n362  https://s.glbimg.com/es/sde/f/2017/06/07/bd6f9...          0          0   \n363  https://s.glbimg.com/es/sde/f/2017/04/23/ad145...          0          0   \n364  https://s.glbimg.com/es/sde/f/2016/04/30/a83b6...          0          0   \n365  https://s.glbimg.com/es/sde/f/2017/06/07/dfce0...          0          0   \n366  https://s.glbimg.com/es/sde/f/2017/05/04/74f74...          0          0   \n367  https://s.glbimg.com/es/sde/f/2017/05/04/80cc9...          0          0   \n368  https://s.glbimg.com/es/sde/f/2017/06/07/2e7af...          0          0   \n370  https://s.glbimg.com/es/sde/f/2017/04/23/7a5ce...          0          0   \n371  https://s.glbimg.com/es/sde/f/2017/08/16/34305...          0          0   \n372  https://s.glbimg.com/es/sde/f/2017/11/21/774a8...          0          0   \n373                                               None          0          0   \n375                                               None          0          0   \n376  https://s.glbimg.com/es/sde/f/2017/12/01/e2a85...          0          0   \n377  https://s.glbimg.com/es/sde/f/2017/12/01/eb654...          0          0   \n378                                               None          0          0   \n379                                               None          0          0   \n380                                               None          0          0   \n384                                               None          0          0   \n477                                               None          0          0   \n484                                               None          0          0   \n556  https://s.glbimg.com/es/sde/f/2018/03/28/80c96...          0          0   \n767                                               None          0          0   \n768                                               None          0          0   \n769                                               None          0          0   \n770                                               None          0          0   \n771  https://s.glbimg.com/es/sde/f/2018/01/24/f5e9e...          0          0   \n773  https://s.glbimg.com/es/sde/f/2018/04/09/91b61...          0          0   \n\n                                       nome  pontos_num  posicao_id  \\\n286           Estevão Renato Pereira Júnior           0           4   \n326                           Cícero Santos           0           4   \n330                           Marcelo Grohe           0           1   \n331                 Leonardo da Silva Moura           0           2   \n332            Maicosuel Reginaldo de Matos           0           4   \n334                       Renato Portaluppi           0           6   \n336          Maicon Thiago Pereira de Souza           0           4   \n337                      Douglas dos Santos           0           4   \n338               Marcelo Oliveira Ferreira           0           2   \n339                           Jonathan Doin           0           3   \n340           André Felipe Ribeiro de Souza           0           5   \n341                    Jael Ferreira Vieira           0           5   \n342                      Gabriel Rybar Blos           0           3   \n343                     Hernane Vidal Souza           0           5   \n344            Matheus Simonete Bressanelli           0           3   \n345              Paulo Victor Mileo Vidotti           0           1   \n346                    Bruno Cortês Barbosa           0           2   \n347              Madson Ferreira dos Santos           0           2   \n348                   Bruno Medeiros Grassi           0           1   \n349              Michel Ferreira dos Santos           0           4   \n350         Alisson Euler de Freitas Castro           0           4   \n351                     Pedro Tonon Geromel           0           3   \n352                  Ramiro Moschen Benetti           0           4   \n353          Luan Guilherme de Jesus Vieira           0           5   \n354                        Walter Kannemann           0           3   \n355                    Everton Sousa Soares           0           5   \n356                  Ânderson Balbino Assis           0           4   \n357                Jaílson Marques Siqueira           0           4   \n358               Thaciano Mickael da Silva           0           4   \n359       Leonardo Gomes da Conceição Silva           0           2   \n360                Vinicius Moreira de Lima           0           4   \n361                   Leonardo Cesar Jardim           0           1   \n362            Eduardo Gabriel Aquino Cossa           0           5   \n363  Arthur Henrique Ramos de Oliveira Melo           0           4   \n364                       Kaio Silva Mendes           0           4   \n365                Ezequiel Gonzalo Esperon           0           4   \n366                    Leonardo Costa Silva           0           5   \n367  Jean Pyerre Casagrande Silveira Correa           0           4   \n368    Jadson Ailton Oliveira Da Silva Vale           0           5   \n370           Marcus Vinicius Aredes Duarte           0           5   \n371               Patrick Machado Ferreira            0           4   \n372                       Dionathã da Silva           0           5   \n373                     Lucas Poletto Costa           0           5   \n375               Matheus Henrique de Souza           0           4   \n376                     Emanuel Leone Moura           0           3   \n377             Brenno Oliveira Fraga Costa           0           1   \n378             Guilherme Alecsander Guedes           0           2   \n379                        Ericson da Silva           0           3   \n380                    Ruan Tressoldi Netto           0           3   \n384              Felipe Albuquerque Felippi           0           2   \n477          Marco Antonio Saravia Antinori           0           3   \n484                Lucas Araújo de Oliveira           0           4   \n556          Luis Henrique Farinhas Taffner           0           5   \n767                      Isaque Elias Brito           0           4   \n768            Mateus Felipe Santiago Dutra           0           3   \n769                 Jorge Ambrosio Mendonça           0           3   \n770            Rodrigo Jorge Medina Ancheta           0           4   \n771         Marcelo Henrique de Sousa Cunha           0           5   \n773       Thonny Anderson da Silva Carvalho           0           4   \n\n     preco_num  rodada_id scout  status_id  variacao_num  \n286          1          1  None          6             0  \n326          8          1  None          2             0  \n330         17          1  None          7             0  \n331          5          1  None          7             0  \n332          5          1  None          6             0  \n334         15          1  None          7             0  \n336          9          1  None          7             0  \n337          7          1  None          6             0  \n338          4          1  None          6             0  \n339          5          1  None          6             0  \n340         12          1  None          6             0  \n341          5          1  None          7             0  \n342          1          1  None          6             0  \n343          5          1  None          6             0  \n344          4          1  None          6             0  \n345          9          1  None          6             0  \n346          9          1  None          7             0  \n347          7          1  None          6             0  \n348          4          1  None          6             0  \n349          6          1  None          6             0  \n350          8          1  None          6             0  \n351         20          1  None          7             0  \n352          9          1  None          7             0  \n353         21          1  None          6             0  \n354         14          1  None          7             0  \n355          7          1  None          7             0  \n356          2          1  None          6             0  \n357          6          1  None          2             0  \n358          2          1  None          6             0  \n359          2          1  None          6             0  \n360          2          1  None          6             0  \n361          3          1  None          6             0  \n362          3          1  None          6             0  \n363         12          1  None          7             0  \n364          3          1  None          6             0  \n365          1          1  None          6             0  \n366          2          1  None          6             0  \n367          3          1  None          6             0  \n368          1          1  None          6             0  \n370          1          1  None          6             0  \n371          2          1  None          6             0  \n372          2          1  None          6             0  \n373          2          1  None          6             0  \n375          1          1  None          6             0  \n376          2          1  None          6             0  \n377          1          1  None          6             0  \n378          1          1  None          6             0  \n379          2          1  None          6             0  \n380          1          1  None          6             0  \n384          2          1  None          6             0  \n477          1          1  None          6             0  \n484          1          1  None          6             0  \n556          2          1  None          6             0  \n767          2          1  None          6             0  \n768          1          1  None          6             0  \n769          1          1  None          6             0  \n770          1          1  None          6             0  \n771          4          1  None          6             0  \n773          4          1  None          2             0  \n"
     ]
    }
   ],
   "source": [
    "from cartolafc_api import cartola_api\n",
    "import pandas as pd\n",
    "\n",
    "atletas = cartola_api.read_data()\n",
    "df_atletas = pd.DataFrame(atletas[\"atletas\"])\n",
    "# print(df_atletas[df_atletas.clube_id == 284])\n"
   ]
  },
  {
   "cell_type": "markdown",
   "metadata": {},
   "source": []
  },
  {
   "cell_type": "code",
   "execution_count": 14,
   "metadata": {
    "collapsed": true
   },
   "outputs": [
    {
     "name": "stdout",
     "output_type": "stream",
     "text": [
      "<class 'pandas.core.frame.DataFrame'>\nInt64Index: 222 entries, 2 to 787\nData columns (total 14 columns):\napelido         222 non-null object\natleta_id       222 non-null int64\nclube_id        222 non-null int64\nfoto            222 non-null object\njogos_num       222 non-null int64\nmedia_num       222 non-null int64\nnome            222 non-null object\npontos_num      222 non-null int64\nposicao_id      222 non-null int64\npreco_num       222 non-null int64\nrodada_id       222 non-null int64\nscout           0 non-null object\nstatus_id       222 non-null int64\nvariacao_num    222 non-null int64\ndtypes: int64(10), object(4)\nmemory usage: 26.0+ KB\nNone\n"
     ]
    }
   ],
   "source": [
    "df_atletas = df_atletas[df_atletas.status_id == 7]\n",
    "print(df_atletas.info())"
   ]
  },
  {
   "cell_type": "code",
   "execution_count": 29,
   "metadata": {},
   "outputs": [
    {
     "name": "stdout",
     "output_type": "stream",
     "text": [
      "  aproveitamento_mandante aproveitamento_visitante  clube_casa_id  \\\n0             [, , , , e]              [, , , , e]            283   \n1              [, , , , ]               [, , , , ]            293   \n2              [, , , , ]               [, , , , ]            327   \n3             [, , , , e]              [, , , , e]            287   \n4              [, , , , ]               [, , , , ]            267   \n\n   clube_casa_posicao  clube_visitante_id  clube_visitante_posicao  \\\n0                  20                 284                        1   \n1                   2                 315                        2   \n2                   2                 292                        2   \n3                   2                 262                        2   \n4                   2                 282                        2   \n\n              local         partida_data  partida_id  placar_oficial_mandante  \\\n0          Mineirão  2018-04-14 16:00:00      221169                      0.0   \n1  Arena da Baixada  2018-04-15 19:00:00      221170                      NaN   \n2     Independência  2018-04-15 11:00:00      221171                      NaN   \n3          Barradão  2018-04-14 19:00:00      221172                      NaN   \n4      São Januário  2018-04-15 16:00:00      221173                      NaN   \n\n   placar_oficial_visitante url_confronto url_transmissao  valida  \n0                       1.0                                  True  \n1                       NaN                                  True  \n2                       NaN                                  True  \n3                       NaN                                  True  \n4                       NaN                                  True  \n"
     ]
    }
   ],
   "source": [
    "jogos = pd.DataFrame(cartola_api.read_rounddata()['partidas'])\n",
    "print(jogos.head())"
   ]
  },
  {
   "cell_type": "code",
   "execution_count": 29,
   "metadata": {},
   "outputs": [],
   "source": []
  },
  {
   "cell_type": "code",
   "execution_count": null,
   "metadata": {},
   "outputs": [],
   "source": []
  }
 ],
 "metadata": {
  "kernelspec": {
   "display_name": "Python 2",
   "language": "python",
   "name": "python2"
  },
  "language_info": {
   "codemirror_mode": {
    "name": "ipython",
    "version": 2
   },
   "file_extension": ".py",
   "mimetype": "text/x-python",
   "name": "python",
   "nbconvert_exporter": "python",
   "pygments_lexer": "ipython2",
   "version": "2.7.6"
  }
 },
 "nbformat": 4,
 "nbformat_minor": 0
}
