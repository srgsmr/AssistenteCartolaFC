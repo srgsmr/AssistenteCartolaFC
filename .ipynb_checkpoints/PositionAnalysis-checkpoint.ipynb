{
 "cells": [
  {
   "cell_type": "code",
   "execution_count": 3,
   "metadata": {},
   "outputs": [
    {
     "name": "stdout",
     "output_type": "stream",
     "text": [
      "      apelido  atleta_id  clube_id  \\\n",
      "0       Diego      38909       262   \n",
      "1      Wesley      50421       327   \n",
      "2  Marquinhos      60788       327   \n",
      "3       David      38695       327   \n",
      "4    Giovanni      72097       327   \n",
      "\n",
      "                                                foto  jogos_num  media_num  \\\n",
      "0  https://s.glbimg.com/es/sde/f/2017/08/16/3ba37...          0          0   \n",
      "1  https://s.glbimg.com/es/sde/f/2018/03/17/da3cd...          0          0   \n",
      "2  https://s.glbimg.com/es/sde/f/2018/03/17/0dc32...          0          0   \n",
      "3  https://s.glbimg.com/es/sde/f/2018/03/17/5746a...          0          0   \n",
      "4  https://s.glbimg.com/es/sde/f/2018/03/20/9553c...          0          0   \n",
      "\n",
      "                                nome  pontos_num  posicao_id  preco_num  \\\n",
      "0               Diego Ribas da Cunha           0           4         15   \n",
      "1              Wesley Lopes Beltrame           0           4          5   \n",
      "2  Marcos Antônio da Silva Gonçalves           0           5          7   \n",
      "3      David França Oliveira e Silva           0           4          3   \n",
      "4       Giovanni Palmieri dos Santos           0           2          6   \n",
      "\n",
      "   rodada_id scout  status_id  variacao_num  \n",
      "0          1  None          7             0  \n",
      "1          1  None          6             0  \n",
      "2          1  None          6             0  \n",
      "3          1  None          5             0  \n",
      "4          1  None          5             0  \n"
     ]
    }
   ],
   "source": [
    "from cartolafc_api import cartola_api\n",
    "import pandas as pd\n",
    "\n",
    "atletas = cartola_api.read_data()\n",
    "df_atletas = pd.DataFrame(atletas[\"atletas\"])\n",
    "print(df_atletas.head())\n"
   ]
  },
  {
   "cell_type": "markdown",
   "metadata": {},
   "source": [
    "# "
   ]
  },
  {
   "cell_type": "code",
   "execution_count": 2,
   "metadata": {},
   "outputs": [
    {
     "name": "stdout",
     "output_type": "stream",
     "text": [
      "<class 'pandas.core.frame.DataFrame'>\n",
      "Int64Index: 222 entries, 0 to 787\n",
      "Data columns (total 14 columns):\n",
      "apelido         222 non-null object\n",
      "atleta_id       222 non-null int64\n",
      "clube_id        222 non-null int64\n",
      "foto            222 non-null object\n",
      "jogos_num       222 non-null int64\n",
      "media_num       222 non-null int64\n",
      "nome            222 non-null object\n",
      "pontos_num      222 non-null int64\n",
      "posicao_id      222 non-null int64\n",
      "preco_num       222 non-null int64\n",
      "rodada_id       222 non-null int64\n",
      "scout           0 non-null object\n",
      "status_id       222 non-null int64\n",
      "variacao_num    222 non-null int64\n",
      "dtypes: int64(10), object(4)\n",
      "memory usage: 26.0+ KB\n",
      "None\n"
     ]
    }
   ],
   "source": [
    "df_atletas = df_atletas[df_atletas.status_id == 7]\n",
    "print(df_atletas.info())"
   ]
  },
  {
   "cell_type": "code",
   "execution_count": null,
   "metadata": {},
   "outputs": [],
   "source": []
  }
 ],
 "metadata": {
  "kernelspec": {
   "display_name": "Python 3",
   "language": "python",
   "name": "python3"
  },
  "language_info": {
   "codemirror_mode": {
    "name": "ipython",
    "version": 3
   },
   "file_extension": ".py",
   "mimetype": "text/x-python",
   "name": "python",
   "nbconvert_exporter": "python",
   "pygments_lexer": "ipython3",
   "version": "3.6.1"
  }
 },
 "nbformat": 4,
 "nbformat_minor": 1
}
